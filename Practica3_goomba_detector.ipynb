{
  "cells": [
    {
      "cell_type": "markdown",
      "metadata": {},
      "source": [
        "# 📝 **Práctica #3:** 🚀 Entrena un modelo para jugar al Mario party\n",
        "\n",
        "[![Open in Colab](https://colab.research.google.com/assets/colab-badge.svg)](https://colab.research.google.com/github/LoboaTeresa/Workshop-COF-23/blob/master/Practica3_goomba_detector.ipynb)"
      ]
    },
    {
      "cell_type": "markdown",
      "metadata": {
        "id": "PRf2BZITzps7"
      },
      "source": [
        "### 1. Instala e importa las librerías necesarias"
      ]
    },
    {
      "cell_type": "code",
      "execution_count": null,
      "metadata": {
        "colab": {
          "base_uri": "https://localhost:8080/"
        },
        "id": "qjmOsh92zps-",
        "outputId": "bd358b5d-77ce-467b-99e5-ec735dd1d18b"
      },
      "outputs": [],
      "source": [
        "! pip install ultralytics\n",
        "from ultralytics import YOLO"
      ]
    },
    {
      "cell_type": "markdown",
      "metadata": {
        "id": "_KODahK80Zun"
      },
      "source": [
        "### 2. Carga el dataset"
      ]
    },
    {
      "cell_type": "code",
      "execution_count": null,
      "metadata": {
        "colab": {
          "base_uri": "https://localhost:8080/"
        },
        "id": "rqvHF4Fp0Z72",
        "outputId": "d2fa7f79-8c14-4769-b26a-279115a07575"
      },
      "outputs": [],
      "source": [
        "!unzip /content/det_dataset.zip"
      ]
    },
    {
      "cell_type": "markdown",
      "metadata": {
        "id": "P8KlBaivzps_"
      },
      "source": [
        "### 5. Entrenar el modelo para detectar goombas y bombas\n",
        "\n",
        "Échale un ojo a la docu de ultralytics\n",
        "\n",
        "* [Training article](https://docs.ultralytics.com/tasks/detect/)\n",
        "* [Training arguments](https://docs.ultralytics.com/modes/train/#resuming-interrupted-trainings:~:text=a%20training%20run.-,Arguments,-Training%20settings%20for)\n",
        "* [Consejos para obtener mejores resultados](https://docs.ultralytics.com/yolov5/tutorials/tips_for_best_training_results/)"
      ]
    },
    {
      "cell_type": "code",
      "execution_count": null,
      "metadata": {
        "colab": {
          "base_uri": "https://localhost:8080/"
        },
        "id": "9TK98gzKzptA",
        "outputId": "fbfb3309-16b8-4c77-8b06-0cce8b7b97c8"
      },
      "outputs": [],
      "source": [
        "# Load a model\n",
        "model = YOLO('?')  # load a pretrained model (recommended for training)\n",
        "\n",
        "# Train the model\n",
        "results = model.train(data='/content/det_dataset/data.yaml', epochs=?, imgsz=?, ??)"
      ]
    },
    {
      "cell_type": "markdown",
      "metadata": {
        "id": "uvGJOhnnzptA"
      },
      "source": [
        "# Test YOLOV8 for detecting Woombas and bombs"
      ]
    },
    {
      "cell_type": "code",
      "execution_count": null,
      "metadata": {
        "colab": {
          "base_uri": "https://localhost:8080/"
        },
        "id": "tzuWwxZgzptA",
        "outputId": "d764628a-b226-439d-de4e-24d94ccb020c"
      },
      "outputs": [],
      "source": [
        "# Load a model\n",
        "model = YOLO('path/to/best.pt')  # load a custom model\n",
        "\n",
        "# Validate the model\n",
        "metrics = model.val()  # no arguments needed, dataset and settings remembered\n",
        "metrics.box.map    # map50-95\n",
        "metrics.box.map50  # map50\n",
        "metrics.box.map75  # map75\n",
        "metrics.box.maps   # a list contains map50-95 of each category"
      ]
    },
    {
      "cell_type": "markdown",
      "metadata": {
        "id": "Vuqp17O1zptB"
      },
      "source": [
        "# Run Inference"
      ]
    },
    {
      "cell_type": "code",
      "execution_count": 5,
      "metadata": {
        "colab": {
          "base_uri": "https://localhost:8080/"
        },
        "id": "OGK6kKz_zptB",
        "outputId": "7c8515b5-e613-4f1c-ad12-513830193514"
      },
      "outputs": [
        {
          "name": "stderr",
          "output_type": "stream",
          "text": [
            "\n",
            "0: 192x224 (no detections), 29.8ms\n",
            "Speed: 0.9ms preprocess, 29.8ms inference, 0.5ms postprocess per image at shape (1, 3, 192, 224)\n"
          ]
        }
      ],
      "source": [
        "# Load a model\n",
        "model = YOLO('path/to/best.pt')  # pretrained YOLOv8n model\n",
        "\n",
        "# Run batched inference on a list of images\n",
        "results = model(['/content/det_dataset/valid/images/2023-09-14-21-22-36_screenshot_3_png.rf.46854df4a3afcbde71c76a8084132400.jpg'])  # return a list of Results objects\n",
        "\n",
        "# Process results list\n",
        "for result in results:\n",
        "    boxes = result.boxes  # Boxes object for bbox outputs\n",
        "    masks = result.masks  # Masks object for segmentation masks outputs\n",
        "    keypoints = result.keypoints  # Keypoints object for pose outputs\n",
        "    probs = result.probs  # Probs object for classification outputs"
      ]
    }
  ],
  "metadata": {
    "colab": {
      "provenance": []
    },
    "kernelspec": {
      "display_name": "Python 3",
      "name": "python3"
    },
    "language_info": {
      "name": "python"
    },
    "orig_nbformat": 4
  },
  "nbformat": 4,
  "nbformat_minor": 0
}
